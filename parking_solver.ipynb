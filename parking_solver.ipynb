{
  "nbformat": 4,
  "nbformat_minor": 0,
  "metadata": {
    "colab": {
      "provenance": []
    },
    "kernelspec": {
      "name": "python3",
      "display_name": "Python 3"
    },
    "language_info": {
      "name": "python"
    }
  },
  "cells": [
    {
      "cell_type": "code",
      "execution_count": 5,
      "metadata": {
        "id": "wDPxY9TWWubj"
      },
      "outputs": [],
      "source": [
        "import folium\n",
        "from folium import GeoJson\n",
        "import geopandas as gpd\n",
        "from shapely.geometry import Polygon, mapping\n",
        "import math\n"
      ]
    },
    {
      "cell_type": "code",
      "source": [],
      "metadata": {
        "id": "9R2mqWVn7CXz"
      },
      "execution_count": null,
      "outputs": []
    },
    {
      "cell_type": "code",
      "source": [
        "# Define the map's center location (latitude, longitude)\n",
        "university_map = folium.Map(location=[6.7970, 79.9008], zoom_start=18)  # Example for University of Moratuwa\n",
        "\n",
        "# Example: Adding new polygon coordinates (in degrees)\n",
        "new_parking_slot_coords = [\n",
        "    [79.899850, 6.797205],  # Top-left\n",
        "    [79.899850, 6.797180],  # Bottom-left\n",
        "    [79.900850, 6.797105],  # Bottom-right\n",
        "    [79.900850, 6.797130]   # Top-right\n",
        "]\n",
        "new_parking_slot_coords1 = [\n",
        "    [79.900956, 6.796610],  # Bottom-left\n",
        "    [79.900944, 6.796620],  # Top-left\n",
        "    [79.901223, 6.796878],  # Bottom-right\n",
        "    [79.901233, 6.796868]   # Top-right\n",
        "]\n",
        "new_parking_slot_coords2 = [\n",
        "    [79.900864, 6.796537],  # Bottom-left\n",
        "    [79.900845, 6.796537],  # Top-left\n",
        "    [79.900883, 6.796981],\n",
        "    [79.900904, 6.796981],  # Bottom-right\n",
        "       # Top-right\n",
        "]\n",
        "new_parking_slot_coords3 = [\n",
        "    [79.899719, 6.7972070],  # Start from the bottom-left\n",
        "    # [79.899895, 6.7972107],  # Move to the top-left\n",
        "    [79.899840, 6.7972310],  # Slightly to the right\n",
        "    [79.899943, 6.7972343],  # Continue up\n",
        "    [79.900013, 6.7972343],  # Top-right corner\n",
        "    [79.900025, 6.7973049],  # Down to the right-most point\n",
        "    [79.899937, 6.7973149],  # Move leftwards\n",
        "    [79.899928, 6.7972996],  # Slightly down\n",
        "    [79.899910, 6.7972976],  # Continue left ***\n",
        "    [79.899861, 6.7973618],  # Top-right of the cluster\n",
        "    [79.899789, 6.7973452],  # Bottom-left corner of upper cluster\n",
        "    [79.899758, 6.7973169],  # Downwards\n",
        "    [79.899761, 6.7973026],  # Bottom-right of the middle cluster\n",
        "    # [79.899778, 6.7972266],  # Return to the start cluster\n",
        "    [79.899718, 6.7972500]  # Finally close the polygon\n",
        "]"
      ],
      "metadata": {
        "id": "gdjXx5y2Wx_h"
      },
      "execution_count": 6,
      "outputs": []
    },
    {
      "cell_type": "code",
      "source": [
        "# Convert coordinates into a polygon using Shapely for CRS handling and accuracy\n",
        "polygon = Polygon(new_parking_slot_coords)\n",
        "polygon1 = Polygon(new_parking_slot_coords1)\n",
        "polygon2 = Polygon(new_parking_slot_coords2)\n",
        "polygon3 = Polygon(new_parking_slot_coords3)"
      ],
      "metadata": {
        "id": "L_U_N38p7LB6"
      },
      "execution_count": 7,
      "outputs": []
    },
    {
      "cell_type": "code",
      "source": [
        "# Create a GeoDataFrame with the polygon and ensure it is in EPSG:4326 (WGS84)\n",
        "gdf = gpd.GeoDataFrame({'geometry': [polygon]})\n",
        "gdf.set_crs(\"EPSG:4326\", allow_override=True, inplace=True)\n",
        "\n",
        "gdf1 = gpd.GeoDataFrame({'geometry': [polygon1]})\n",
        "gdf1.set_crs(\"EPSG:4326\", allow_override=True, inplace=True)\n",
        "\n",
        "gdf2 = gpd.GeoDataFrame({'geometry': [polygon2]})\n",
        "gdf2.set_crs(\"EPSG:4326\", allow_override=True, inplace=True)\n",
        "\n",
        "gdf3 = gpd.GeoDataFrame({'geometry': [polygon3]})\n",
        "gdf3.set_crs(\"EPSG:4326\", allow_override=True, inplace=True)"
      ],
      "metadata": {
        "colab": {
          "base_uri": "https://localhost:8080/",
          "height": 89
        },
        "id": "dAyR7U2G7QUF",
        "outputId": "e189b78c-a7ba-44e3-d8e0-030fac8528ca"
      },
      "execution_count": 8,
      "outputs": [
        {
          "output_type": "execute_result",
          "data": {
            "text/plain": [
              "                                            geometry\n",
              "0  POLYGON ((79.89972 6.79721, 79.89984 6.79723, ..."
            ],
            "text/html": [
              "\n",
              "  <div id=\"df-705e3ece-c90b-40db-8d07-3d2bc0c06344\" class=\"colab-df-container\">\n",
              "    <div>\n",
              "<style scoped>\n",
              "    .dataframe tbody tr th:only-of-type {\n",
              "        vertical-align: middle;\n",
              "    }\n",
              "\n",
              "    .dataframe tbody tr th {\n",
              "        vertical-align: top;\n",
              "    }\n",
              "\n",
              "    .dataframe thead th {\n",
              "        text-align: right;\n",
              "    }\n",
              "</style>\n",
              "<table border=\"1\" class=\"dataframe\">\n",
              "  <thead>\n",
              "    <tr style=\"text-align: right;\">\n",
              "      <th></th>\n",
              "      <th>geometry</th>\n",
              "    </tr>\n",
              "  </thead>\n",
              "  <tbody>\n",
              "    <tr>\n",
              "      <th>0</th>\n",
              "      <td>POLYGON ((79.89972 6.79721, 79.89984 6.79723, ...</td>\n",
              "    </tr>\n",
              "  </tbody>\n",
              "</table>\n",
              "</div>\n",
              "    <div class=\"colab-df-buttons\">\n",
              "\n",
              "  <div class=\"colab-df-container\">\n",
              "    <button class=\"colab-df-convert\" onclick=\"convertToInteractive('df-705e3ece-c90b-40db-8d07-3d2bc0c06344')\"\n",
              "            title=\"Convert this dataframe to an interactive table.\"\n",
              "            style=\"display:none;\">\n",
              "\n",
              "  <svg xmlns=\"http://www.w3.org/2000/svg\" height=\"24px\" viewBox=\"0 -960 960 960\">\n",
              "    <path d=\"M120-120v-720h720v720H120Zm60-500h600v-160H180v160Zm220 220h160v-160H400v160Zm0 220h160v-160H400v160ZM180-400h160v-160H180v160Zm440 0h160v-160H620v160ZM180-180h160v-160H180v160Zm440 0h160v-160H620v160Z\"/>\n",
              "  </svg>\n",
              "    </button>\n",
              "\n",
              "  <style>\n",
              "    .colab-df-container {\n",
              "      display:flex;\n",
              "      gap: 12px;\n",
              "    }\n",
              "\n",
              "    .colab-df-convert {\n",
              "      background-color: #E8F0FE;\n",
              "      border: none;\n",
              "      border-radius: 50%;\n",
              "      cursor: pointer;\n",
              "      display: none;\n",
              "      fill: #1967D2;\n",
              "      height: 32px;\n",
              "      padding: 0 0 0 0;\n",
              "      width: 32px;\n",
              "    }\n",
              "\n",
              "    .colab-df-convert:hover {\n",
              "      background-color: #E2EBFA;\n",
              "      box-shadow: 0px 1px 2px rgba(60, 64, 67, 0.3), 0px 1px 3px 1px rgba(60, 64, 67, 0.15);\n",
              "      fill: #174EA6;\n",
              "    }\n",
              "\n",
              "    .colab-df-buttons div {\n",
              "      margin-bottom: 4px;\n",
              "    }\n",
              "\n",
              "    [theme=dark] .colab-df-convert {\n",
              "      background-color: #3B4455;\n",
              "      fill: #D2E3FC;\n",
              "    }\n",
              "\n",
              "    [theme=dark] .colab-df-convert:hover {\n",
              "      background-color: #434B5C;\n",
              "      box-shadow: 0px 1px 3px 1px rgba(0, 0, 0, 0.15);\n",
              "      filter: drop-shadow(0px 1px 2px rgba(0, 0, 0, 0.3));\n",
              "      fill: #FFFFFF;\n",
              "    }\n",
              "  </style>\n",
              "\n",
              "    <script>\n",
              "      const buttonEl =\n",
              "        document.querySelector('#df-705e3ece-c90b-40db-8d07-3d2bc0c06344 button.colab-df-convert');\n",
              "      buttonEl.style.display =\n",
              "        google.colab.kernel.accessAllowed ? 'block' : 'none';\n",
              "\n",
              "      async function convertToInteractive(key) {\n",
              "        const element = document.querySelector('#df-705e3ece-c90b-40db-8d07-3d2bc0c06344');\n",
              "        const dataTable =\n",
              "          await google.colab.kernel.invokeFunction('convertToInteractive',\n",
              "                                                    [key], {});\n",
              "        if (!dataTable) return;\n",
              "\n",
              "        const docLinkHtml = 'Like what you see? Visit the ' +\n",
              "          '<a target=\"_blank\" href=https://colab.research.google.com/notebooks/data_table.ipynb>data table notebook</a>'\n",
              "          + ' to learn more about interactive tables.';\n",
              "        element.innerHTML = '';\n",
              "        dataTable['output_type'] = 'display_data';\n",
              "        await google.colab.output.renderOutput(dataTable, element);\n",
              "        const docLink = document.createElement('div');\n",
              "        docLink.innerHTML = docLinkHtml;\n",
              "        element.appendChild(docLink);\n",
              "      }\n",
              "    </script>\n",
              "  </div>\n",
              "\n",
              "\n",
              "  <div id=\"id_e66819e5-ca71-42d6-bb81-8f9538235f5e\">\n",
              "    <style>\n",
              "      .colab-df-generate {\n",
              "        background-color: #E8F0FE;\n",
              "        border: none;\n",
              "        border-radius: 50%;\n",
              "        cursor: pointer;\n",
              "        display: none;\n",
              "        fill: #1967D2;\n",
              "        height: 32px;\n",
              "        padding: 0 0 0 0;\n",
              "        width: 32px;\n",
              "      }\n",
              "\n",
              "      .colab-df-generate:hover {\n",
              "        background-color: #E2EBFA;\n",
              "        box-shadow: 0px 1px 2px rgba(60, 64, 67, 0.3), 0px 1px 3px 1px rgba(60, 64, 67, 0.15);\n",
              "        fill: #174EA6;\n",
              "      }\n",
              "\n",
              "      [theme=dark] .colab-df-generate {\n",
              "        background-color: #3B4455;\n",
              "        fill: #D2E3FC;\n",
              "      }\n",
              "\n",
              "      [theme=dark] .colab-df-generate:hover {\n",
              "        background-color: #434B5C;\n",
              "        box-shadow: 0px 1px 3px 1px rgba(0, 0, 0, 0.15);\n",
              "        filter: drop-shadow(0px 1px 2px rgba(0, 0, 0, 0.3));\n",
              "        fill: #FFFFFF;\n",
              "      }\n",
              "    </style>\n",
              "    <button class=\"colab-df-generate\" onclick=\"generateWithVariable('gdf3')\"\n",
              "            title=\"Generate code using this dataframe.\"\n",
              "            style=\"display:none;\">\n",
              "\n",
              "  <svg xmlns=\"http://www.w3.org/2000/svg\" height=\"24px\"viewBox=\"0 0 24 24\"\n",
              "       width=\"24px\">\n",
              "    <path d=\"M7,19H8.4L18.45,9,17,7.55,7,17.6ZM5,21V16.75L18.45,3.32a2,2,0,0,1,2.83,0l1.4,1.43a1.91,1.91,0,0,1,.58,1.4,1.91,1.91,0,0,1-.58,1.4L9.25,21ZM18.45,9,17,7.55Zm-12,3A5.31,5.31,0,0,0,4.9,8.1,5.31,5.31,0,0,0,1,6.5,5.31,5.31,0,0,0,4.9,4.9,5.31,5.31,0,0,0,6.5,1,5.31,5.31,0,0,0,8.1,4.9,5.31,5.31,0,0,0,12,6.5,5.46,5.46,0,0,0,6.5,12Z\"/>\n",
              "  </svg>\n",
              "    </button>\n",
              "    <script>\n",
              "      (() => {\n",
              "      const buttonEl =\n",
              "        document.querySelector('#id_e66819e5-ca71-42d6-bb81-8f9538235f5e button.colab-df-generate');\n",
              "      buttonEl.style.display =\n",
              "        google.colab.kernel.accessAllowed ? 'block' : 'none';\n",
              "\n",
              "      buttonEl.onclick = () => {\n",
              "        google.colab.notebook.generateWithVariable('gdf3');\n",
              "      }\n",
              "      })();\n",
              "    </script>\n",
              "  </div>\n",
              "\n",
              "    </div>\n",
              "  </div>\n"
            ],
            "application/vnd.google.colaboratory.intrinsic+json": {
              "type": "dataframe",
              "variable_name": "gdf3",
              "summary": "{\n  \"name\": \"gdf3\",\n  \"rows\": 1,\n  \"fields\": [\n    {\n      \"column\": \"geometry\",\n      \"properties\": {\n        \"dtype\": \"geometry\",\n        \"num_unique_values\": 1,\n        \"samples\": [\n          \"POLYGON ((79.899719 6.797207, 79.89984 6.797231, 79.899943 6.7972343, 79.900013 6.7972343, 79.900025 6.7973049, 79.899937 6.7973149, 79.899928 6.7972996, 79.89991 6.7972976, 79.899861 6.7973618, 79.899789 6.7973452, 79.899758 6.7973169, 79.899761 6.7973026, 79.899718 6.79725, 79.899719 6.797207))\"\n        ],\n        \"semantic_type\": \"\",\n        \"description\": \"\"\n      }\n    }\n  ]\n}"
            }
          },
          "metadata": {},
          "execution_count": 8
        }
      ]
    },
    {
      "cell_type": "code",
      "source": [
        "\n",
        "# Convert the GeoDataFrame into GeoJSON format for Folium\n",
        "geojson = gdf.geometry.apply(mapping).iloc[0]\n",
        "geojson1 = gdf1.geometry.apply(mapping).iloc[0]\n",
        "geojson2 = gdf2.geometry.apply(mapping).iloc[0]\n",
        "geojson3 = gdf3.geometry.apply(mapping).iloc[0]"
      ],
      "metadata": {
        "id": "wnhfGoM57Xco"
      },
      "execution_count": 9,
      "outputs": []
    },
    {
      "cell_type": "code",
      "source": [
        "# Create the GeoJson feature with properties\n",
        "new_parking_slot = {\n",
        "    \"type\": \"Feature\",\n",
        "    \"properties\": {\"name\": \"New Slot\"},\n",
        "    \"geometry\": geojson\n",
        "}\n",
        "new_parking_slot1 = {\n",
        "    \"type\": \"Feature\",\n",
        "    \"properties\": {\"name\": \"New Slot1\"},\n",
        "    \"geometry\": geojson1\n",
        "}\n",
        "new_parking_slot2 = {\n",
        "    \"type\": \"Feature\",\n",
        "    \"properties\": {\"name\": \"New Slot1\"},\n",
        "    \"geometry\": geojson2\n",
        "}\n",
        "new_parking_slot3 = {\n",
        "    \"type\": \"Feature\",\n",
        "    \"properties\": {\"name\": \"New Slot1\"},\n",
        "    \"geometry\": geojson3\n",
        "}"
      ],
      "metadata": {
        "id": "d3d5Z7eO7YjI"
      },
      "execution_count": 10,
      "outputs": []
    },
    {
      "cell_type": "code",
      "source": [
        "# Add the new polygon as a GeoJson layer to the map\n",
        "GeoJson(new_parking_slot).add_to(university_map)\n",
        "GeoJson(new_parking_slot1).add_to(university_map)\n",
        "GeoJson(new_parking_slot2).add_to(university_map)\n",
        "GeoJson(new_parking_slot3).add_to(university_map)"
      ],
      "metadata": {
        "colab": {
          "base_uri": "https://localhost:8080/"
        },
        "id": "XHTKQRyr7dqP",
        "outputId": "61b3f926-5283-43ff-a86c-2af81d6244dd"
      },
      "execution_count": 11,
      "outputs": [
        {
          "output_type": "execute_result",
          "data": {
            "text/plain": [
              "<folium.features.GeoJson at 0x79b4b5b8e320>"
            ]
          },
          "metadata": {},
          "execution_count": 11
        }
      ]
    },
    {
      "cell_type": "code",
      "source": [
        "# Display the map\n",
        "university_map"
      ],
      "metadata": {
        "id": "hWk0Z1eo7h2Q"
      },
      "execution_count": null,
      "outputs": []
    },
    {
      "cell_type": "code",
      "source": [
        "# Define the polygon coordinates (already rearranged for a rectangle)\n",
        "new_parking_slot_coords = [\n",
        "    [79.899850, 6.797100],  # Top-left\n",
        "    [79.899850, 6.797055],  # Bottom-left\n",
        "    [79.900850, 6.797055],  # Bottom-right\n",
        "    [79.900850, 6.797100]   # Top-right\n",
        "]"
      ],
      "metadata": {
        "id": "qMus7wOJW2nd"
      },
      "execution_count": 22,
      "outputs": []
    },
    {
      "cell_type": "code",
      "source": [
        "# Create a Polygon object using the coordinates\n",
        "polygon = Polygon(new_parking_slot_coords)"
      ],
      "metadata": {
        "id": "SMNSQ6Mt76io"
      },
      "execution_count": 23,
      "outputs": []
    },
    {
      "cell_type": "code",
      "source": [
        "# Check if the polygon is valid\n",
        "if polygon.is_valid:\n",
        "    # Create a GeoDataFrame\n",
        "    gdf = gpd.GeoDataFrame(geometry=[polygon])\n",
        "\n",
        "    # Set the initial coordinate reference system (WGS84) for lat/lon\n",
        "    gdf = gdf.set_crs(\"EPSG:4326\")  # WGS84\n",
        "\n",
        "    # Reproject to a projected coordinate system for accurate distance measurements\n",
        "    # Using EPSG:3395 for Mercator projection (meters)\n",
        "    gdf = gdf.to_crs(epsg=3395)  # Mercator projection (EPSG:3395)\n",
        "\n",
        "    # Calculate area in square meters\n",
        "    area = gdf.area[0]  # The first (and only) polygon\n",
        "    print(f\"Area of the polygon: {area:.2f} square meters\")\n",
        "\n",
        "    # Get the bounding box (minx, miny, maxx, maxy) in the projected CRS (meters)\n",
        "    minx, miny, maxx, maxy = gdf.bounds.iloc[0]  # Use the GeoDataFrame's bounds\n",
        "\n",
        "    # Calculate the width and length in meters using the bounds in the projected CRS\n",
        "    width = maxx - minx  # Difference in x (East-West direction)\n",
        "    length = maxy - miny  # Difference in y (North-South direction)\n",
        "\n",
        "    print(f\"Width of the polygon: {width:.2f} meters\")\n",
        "    print(f\"Length of the polygon: {length:.2f} meters\")\n",
        "else:\n",
        "    print(\"Invalid polygon!\")"
      ],
      "metadata": {
        "colab": {
          "base_uri": "https://localhost:8080/"
        },
        "id": "NADyzkiy8BGC",
        "outputId": "35065b21-d6b6-4295-cd76-fdeffe48688c"
      },
      "execution_count": 16,
      "outputs": [
        {
          "output_type": "stream",
          "name": "stdout",
          "text": [
            "Area of the polygon: 557.88 square meters\n",
            "Width of the polygon: 111.32 meters\n",
            "Length of the polygon: 5.01 meters\n"
          ]
        }
      ]
    },
    {
      "cell_type": "code",
      "source": [],
      "metadata": {
        "id": "6013cVPn8EZ6"
      },
      "execution_count": null,
      "outputs": []
    },
    {
      "cell_type": "code",
      "source": [
        "\n",
        "\n",
        "def latlon_to_cartesian(center_lat, center_lon, points):\n",
        "    \"\"\"\n",
        "    Convert geographic coordinates (latitude, longitude) to Cartesian (x, y) coordinates in meters.\n",
        "\n",
        "    Parameters:\n",
        "        center_lat (float): Latitude of the Cartesian plane's origin (0, 0).\n",
        "        center_lon (float): Longitude of the Cartesian plane's origin (0, 0).\n",
        "        points (list): List of geographic coordinates as [(lon, lat), ...].\n",
        "\n",
        "    Returns:\n",
        "        list: List of Cartesian coordinates as [(x, y), ...].\n",
        "    \"\"\"\n",
        "    # Earth's radius in meters\n",
        "    R = 6371000\n",
        "    center_lat_rad = math.radians(center_lat)\n",
        "    center_lon_rad = math.radians(center_lon)\n",
        "\n",
        "    cartesian_coords = []\n",
        "    for lon, lat in points:\n",
        "        # Convert to radians\n",
        "        lat_rad = math.radians(lat)\n",
        "        lon_rad = math.radians(lon)\n",
        "\n",
        "        # Calculate x and y using the Haversine formula\n",
        "        delta_lat = lat_rad - center_lat_rad\n",
        "        delta_lon = lon_rad - center_lon_rad\n",
        "        x = R * delta_lon * math.cos(center_lat_rad)\n",
        "        y = R * delta_lat\n",
        "        cartesian_coords.append((x, y))\n",
        "\n",
        "    return cartesian_coords\n",
        "\n"
      ],
      "metadata": {
        "id": "4n71rg3CXRzC"
      },
      "execution_count": 17,
      "outputs": []
    },
    {
      "cell_type": "code",
      "source": [
        "\n",
        "# Example usage\n",
        "# Center of the Cartesian plane (University of Moratuwa)\n",
        "center_lat = 6.7971657  # Latitude\n",
        "center_lon = 79.899895  # Longitude\n"
      ],
      "metadata": {
        "id": "W1lfoM2b8YLE"
      },
      "execution_count": 18,
      "outputs": []
    },
    {
      "cell_type": "code",
      "source": [
        "\n",
        "# Polygon vertices in (longitude, latitude)\n",
        "new_parking_slot_coords = [\n",
        "    [79.899850, 6.797205],  # Top-left\n",
        "    [79.899850, 6.797180],  # Bottom-left\n",
        "    [79.900850, 6.797105],  # Bottom-right\n",
        "    [79.900850, 6.797130]   # Top-right\n",
        "]\n"
      ],
      "metadata": {
        "id": "9LJRHm3d8cCM"
      },
      "execution_count": 19,
      "outputs": []
    },
    {
      "cell_type": "code",
      "source": [
        "\n",
        "# Convert to Cartesian (x, y)\n",
        "cartesian_polygon = latlon_to_cartesian(center_lat, center_lon, new_parking_slot_coords)\n"
      ],
      "metadata": {
        "id": "Ud_k944j8eZ2"
      },
      "execution_count": 20,
      "outputs": []
    },
    {
      "cell_type": "code",
      "source": [
        "\n",
        "# Output the Cartesian coordinates\n",
        "print(\"Cartesian Polygon Coordinates (in meters):\")\n",
        "print(cartesian_polygon)"
      ],
      "metadata": {
        "colab": {
          "base_uri": "https://localhost:8080/"
        },
        "id": "9PivTaPI8gPj",
        "outputId": "d76c6ac6-2975-4a5a-da88-575f16dd2e37"
      },
      "execution_count": 21,
      "outputs": [
        {
          "output_type": "stream",
          "name": "stdout",
          "text": [
            "Cartesian Polygon Coordinates (in meters):\n",
            "[(-4.968602009502883, 4.3699606171159475), (-4.968602009502883, 1.5900874509738594), (105.44477598101084, -6.74953204736399), (105.44477598101084, -3.969658881221902)]\n"
          ]
        }
      ]
    }
  ]
}